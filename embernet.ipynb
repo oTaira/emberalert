{
 "cells": [
  {
   "cell_type": "code",
   "execution_count": 6,
   "metadata": {},
   "outputs": [],
   "source": [
    "import pandas as pd\n",
    "import numpy as np\n",
    "import statsmodels as sm\n",
    "import matplotlib.pyplot as plt"
   ]
  },
  {
   "cell_type": "code",
   "execution_count": 4,
   "metadata": {},
   "outputs": [
    {
     "data": {
      "text/html": [
       "<div>\n",
       "<style scoped>\n",
       "    .dataframe tbody tr th:only-of-type {\n",
       "        vertical-align: middle;\n",
       "    }\n",
       "\n",
       "    .dataframe tbody tr th {\n",
       "        vertical-align: top;\n",
       "    }\n",
       "\n",
       "    .dataframe thead th {\n",
       "        text-align: right;\n",
       "    }\n",
       "</style>\n",
       "<table border=\"1\" class=\"dataframe\">\n",
       "  <thead>\n",
       "    <tr style=\"text-align: right;\">\n",
       "      <th></th>\n",
       "      <th>index</th>\n",
       "      <th>FIRE_NAME</th>\n",
       "      <th>GIS_ACRES</th>\n",
       "      <th>Shape__Area</th>\n",
       "      <th>Shape__Length</th>\n",
       "      <th>acq_date</th>\n",
       "      <th>latitude_right</th>\n",
       "      <th>longitude_right</th>\n",
       "      <th>frp</th>\n",
       "      <th>type</th>\n",
       "      <th>...</th>\n",
       "      <th>COUNTY_NUM</th>\n",
       "      <th>COUNTY_COD</th>\n",
       "      <th>countyfip</th>\n",
       "      <th>ISLAND</th>\n",
       "      <th>GlobalID</th>\n",
       "      <th>countyfips</th>\n",
       "      <th>ds_pm_pred</th>\n",
       "      <th>log_acres</th>\n",
       "      <th>log_frp</th>\n",
       "      <th>acres_frp_interaction</th>\n",
       "    </tr>\n",
       "  </thead>\n",
       "  <tbody>\n",
       "    <tr>\n",
       "      <th>0</th>\n",
       "      <td>0</td>\n",
       "      <td>LAVAL</td>\n",
       "      <td>41.16521</td>\n",
       "      <td>2.487328e+05</td>\n",
       "      <td>2515.675850</td>\n",
       "      <td>2012-06-03</td>\n",
       "      <td>34.9829</td>\n",
       "      <td>-118.9148</td>\n",
       "      <td>23.1</td>\n",
       "      <td>0</td>\n",
       "      <td>...</td>\n",
       "      <td>15.0</td>\n",
       "      <td>15</td>\n",
       "      <td>29.0</td>\n",
       "      <td>NaN</td>\n",
       "      <td>55f8678b-d6c9-40c4-b9a0-c3e73d2714a5</td>\n",
       "      <td>6029</td>\n",
       "      <td>7.273597</td>\n",
       "      <td>3.741595</td>\n",
       "      <td>3.182212</td>\n",
       "      <td>950.916351</td>\n",
       "    </tr>\n",
       "    <tr>\n",
       "      <th>1</th>\n",
       "      <td>1</td>\n",
       "      <td>SAND</td>\n",
       "      <td>1428.45400</td>\n",
       "      <td>8.660542e+06</td>\n",
       "      <td>21616.461724</td>\n",
       "      <td>2012-07-17</td>\n",
       "      <td>35.1097</td>\n",
       "      <td>-118.3168</td>\n",
       "      <td>226.5</td>\n",
       "      <td>0</td>\n",
       "      <td>...</td>\n",
       "      <td>15.0</td>\n",
       "      <td>15</td>\n",
       "      <td>29.0</td>\n",
       "      <td>NaN</td>\n",
       "      <td>55f8678b-d6c9-40c4-b9a0-c3e73d2714a5</td>\n",
       "      <td>6029</td>\n",
       "      <td>7.187228</td>\n",
       "      <td>7.265048</td>\n",
       "      <td>5.427150</td>\n",
       "      <td>323544.831000</td>\n",
       "    </tr>\n",
       "    <tr>\n",
       "      <th>2</th>\n",
       "      <td>2</td>\n",
       "      <td>SOUTH</td>\n",
       "      <td>245.71260</td>\n",
       "      <td>1.505821e+06</td>\n",
       "      <td>7866.980151</td>\n",
       "      <td>2012-07-29</td>\n",
       "      <td>35.5599</td>\n",
       "      <td>-118.4634</td>\n",
       "      <td>292.7</td>\n",
       "      <td>0</td>\n",
       "      <td>...</td>\n",
       "      <td>15.0</td>\n",
       "      <td>15</td>\n",
       "      <td>29.0</td>\n",
       "      <td>NaN</td>\n",
       "      <td>55f8678b-d6c9-40c4-b9a0-c3e73d2714a5</td>\n",
       "      <td>6029</td>\n",
       "      <td>9.949866</td>\n",
       "      <td>5.508224</td>\n",
       "      <td>5.682559</td>\n",
       "      <td>71920.078020</td>\n",
       "    </tr>\n",
       "    <tr>\n",
       "      <th>3</th>\n",
       "      <td>3</td>\n",
       "      <td>GROOVY</td>\n",
       "      <td>46.53661</td>\n",
       "      <td>3.101320e+05</td>\n",
       "      <td>3119.986471</td>\n",
       "      <td>2011-12-01</td>\n",
       "      <td>38.7503</td>\n",
       "      <td>-120.4645</td>\n",
       "      <td>11.2</td>\n",
       "      <td>0</td>\n",
       "      <td>...</td>\n",
       "      <td>9.0</td>\n",
       "      <td>9</td>\n",
       "      <td>17.0</td>\n",
       "      <td>NaN</td>\n",
       "      <td>8c7709f7-3e81-4245-85d6-3fbc6ebd7261</td>\n",
       "      <td>6017</td>\n",
       "      <td>4.048693</td>\n",
       "      <td>3.861500</td>\n",
       "      <td>2.501436</td>\n",
       "      <td>521.210032</td>\n",
       "    </tr>\n",
       "    <tr>\n",
       "      <th>4</th>\n",
       "      <td>4</td>\n",
       "      <td>MINT</td>\n",
       "      <td>601.99160</td>\n",
       "      <td>3.600745e+06</td>\n",
       "      <td>8952.761601</td>\n",
       "      <td>2011-09-17</td>\n",
       "      <td>34.5579</td>\n",
       "      <td>-118.3275</td>\n",
       "      <td>249.0</td>\n",
       "      <td>0</td>\n",
       "      <td>...</td>\n",
       "      <td>19.0</td>\n",
       "      <td>19</td>\n",
       "      <td>37.0</td>\n",
       "      <td>NaN</td>\n",
       "      <td>3b1e1d69-2b1a-464d-ba43-611c4201b219</td>\n",
       "      <td>6037</td>\n",
       "      <td>9.494834</td>\n",
       "      <td>6.401903</td>\n",
       "      <td>5.521461</td>\n",
       "      <td>149895.908400</td>\n",
       "    </tr>\n",
       "  </tbody>\n",
       "</table>\n",
       "<p>5 rows × 30 columns</p>\n",
       "</div>"
      ],
      "text/plain": [
       "   index FIRE_NAME   GIS_ACRES   Shape__Area  Shape__Length    acq_date  \\\n",
       "0      0     LAVAL    41.16521  2.487328e+05    2515.675850  2012-06-03   \n",
       "1      1      SAND  1428.45400  8.660542e+06   21616.461724  2012-07-17   \n",
       "2      2     SOUTH   245.71260  1.505821e+06    7866.980151  2012-07-29   \n",
       "3      3    GROOVY    46.53661  3.101320e+05    3119.986471  2011-12-01   \n",
       "4      4      MINT   601.99160  3.600745e+06    8952.761601  2011-09-17   \n",
       "\n",
       "   latitude_right  longitude_right    frp  type  ...  COUNTY_NUM  COUNTY_COD  \\\n",
       "0         34.9829        -118.9148   23.1     0  ...        15.0          15   \n",
       "1         35.1097        -118.3168  226.5     0  ...        15.0          15   \n",
       "2         35.5599        -118.4634  292.7     0  ...        15.0          15   \n",
       "3         38.7503        -120.4645   11.2     0  ...         9.0           9   \n",
       "4         34.5579        -118.3275  249.0     0  ...        19.0          19   \n",
       "\n",
       "   countyfip  ISLAND                              GlobalID  countyfips  \\\n",
       "0       29.0     NaN  55f8678b-d6c9-40c4-b9a0-c3e73d2714a5        6029   \n",
       "1       29.0     NaN  55f8678b-d6c9-40c4-b9a0-c3e73d2714a5        6029   \n",
       "2       29.0     NaN  55f8678b-d6c9-40c4-b9a0-c3e73d2714a5        6029   \n",
       "3       17.0     NaN  8c7709f7-3e81-4245-85d6-3fbc6ebd7261        6017   \n",
       "4       37.0     NaN  3b1e1d69-2b1a-464d-ba43-611c4201b219        6037   \n",
       "\n",
       "  ds_pm_pred  log_acres   log_frp acres_frp_interaction  \n",
       "0   7.273597   3.741595  3.182212            950.916351  \n",
       "1   7.187228   7.265048  5.427150         323544.831000  \n",
       "2   9.949866   5.508224  5.682559          71920.078020  \n",
       "3   4.048693   3.861500  2.501436            521.210032  \n",
       "4   9.494834   6.401903  5.521461         149895.908400  \n",
       "\n",
       "[5 rows x 30 columns]"
      ]
     },
     "execution_count": 4,
     "metadata": {},
     "output_type": "execute_result"
    }
   ],
   "source": [
    "fire_data = pd.read_csv(\"./data/merged_data.csv\")\n",
    "fire_data.head()"
   ]
  },
  {
   "cell_type": "code",
   "execution_count": 24,
   "metadata": {},
   "outputs": [
    {
     "data": {
      "text/plain": [
       "Index(['index', 'FIRE_NAME', 'GIS_ACRES', 'Shape__Area', 'Shape__Length',\n",
       "       'acq_date', 'latitude_right', 'longitude_right', 'frp', 'type',\n",
       "       'bright_t31', 'confidence', 'year', 'month', 'distance', 'day',\n",
       "       'geometry', 'index_right', 'COUNTY_NAM', 'COUNTY_ABB', 'COUNTY_NUM',\n",
       "       'COUNTY_COD', 'countyfip', 'ISLAND', 'GlobalID', 'countyfips',\n",
       "       'ds_pm_pred', 'log_acres', 'log_frp', 'acres_frp_interaction'],\n",
       "      dtype='object')"
      ]
     },
     "execution_count": 24,
     "metadata": {},
     "output_type": "execute_result"
    }
   ],
   "source": [
    "fire_data.columns"
   ]
  },
  {
   "cell_type": "code",
   "execution_count": 9,
   "metadata": {},
   "outputs": [
    {
     "data": {
      "image/png": "[encoded data removed]",
      "text/plain": [
       "<Figure size 640x480 with 1 Axes>"
      ]
     },
     "metadata": {},
     "output_type": "display_data"
    }
   ],
   "source": [
    "plt.hist(fire_data['ds_pm_pred'], bins = 55)\n",
    "plt.title(\"Distribution of pm2.5 levels\")\n",
    "plt.xlabel(\"PM2.5 level\")\n",
    "plt.ylabel(\"Count\")\n",
    "plt.show()"
   ]
  },
  {
   "cell_type": "code",
   "execution_count": 25,
   "metadata": {},
   "outputs": [],
   "source": [
    "fire_data['log_acres'] = np.log(fire_data['GIS_ACRES'] + 1)\n",
    "fire_data['log_frp'] = np.log(fire_data['frp'] + 1)\n",
    "fire_data['acres_frp_interaction'] = fire_data['GIS_ACRES'] * fire_data['frp']\n",
    "fire_data['month'] = pd.to_datetime(fire_data['acq_date']).dt.month\n",
    "fire_data['day_of_week'] = pd.to_datetime(fire_data['acq_date']).dt.dayofweek"
   ]
  },
  {
   "cell_type": "code",
   "execution_count": 14,
   "metadata": {},
   "outputs": [
    {
     "data": {
      "text/plain": [
       "<matplotlib.collections.PathCollection at 0x13f50ea20>"
      ]
     },
     "execution_count": 14,
     "metadata": {},
     "output_type": "execute_result"
    },
    {
     "data": {
      "image/png": "[encoded data removed]",
      "text/plain": [
       "<Figure size 640x480 with 1 Axes>"
      ]
     },
     "metadata": {},
     "output_type": "display_data"
    }
   ],
   "source": [
    "plt.scatter(fire_data['GIS_ACRES'], fire_data['ds_pm_pred'])"
   ]
  },
  {
   "cell_type": "code",
   "execution_count": 36,
   "metadata": {},
   "outputs": [
    {
     "data": {
      "image/png": "[encoded data removed]",
      "text/plain": [
       "<Figure size 640x480 with 1 Axes>"
      ]
     },
     "metadata": {},
     "output_type": "display_data"
    }
   ],
   "source": [
    "plt.scatter(fire_data['log_acres'], fire_data['ds_pm_pred'])\n",
    "plt.title(\"Log Acres vs Pm2.5 levels\")\n",
    "plt.xlabel(\"Log Acres\")\n",
    "plt.ylabel(\"PM2.5 level\")\n",
    "plt.show()"
   ]
  },
  {
   "cell_type": "markdown",
   "metadata": {},
   "source": [
    "## GLMs"
   ]
  },
  {
   "cell_type": "code",
   "execution_count": 17,
   "metadata": {},
   "outputs": [
    {
     "name": "stdout",
     "output_type": "stream",
     "text": [
      "                 Generalized Linear Model Regression Results                  \n",
      "==============================================================================\n",
      "Dep. Variable:             ds_pm_pred   No. Observations:                15167\n",
      "Model:                            GLM   Df Residuals:                    15162\n",
      "Model Family:                   Gamma   Df Model:                            4\n",
      "Link Function:                    Log   Scale:                         0.24713\n",
      "Method:                          IRLS   Log-Likelihood:                -47965.\n",
      "Date:                Sun, 05 May 2024   Deviance:                       2959.3\n",
      "Time:                        17:10:52   Pearson chi2:                 3.75e+03\n",
      "No. Iterations:                    10   Pseudo R-squ. (CS):             0.1852\n",
      "Covariance Type:            nonrobust                                         \n",
      "=================================================================================\n",
      "                    coef    std err          z      P>|z|      [0.025      0.975]\n",
      "---------------------------------------------------------------------------------\n",
      "const             3.6021      0.117     30.752      0.000       3.373       3.832\n",
      "frp             3.59e-05    1.4e-05      2.559      0.010    8.41e-06    6.34e-05\n",
      "bright_t31       -0.0039      0.000     -9.970      0.000      -0.005      -0.003\n",
      "Shape__Area    4.194e-10   1.83e-11     22.914      0.000    3.83e-10    4.55e-10\n",
      "Shape__Length  -4.53e-07   7.56e-08     -5.994      0.000   -6.01e-07   -3.05e-07\n",
      "=================================================================================\n"
     ]
    }
   ],
   "source": [
    "import statsmodels.api as sm\n",
    "X = fire_data[['frp', 'bright_t31', 'Shape__Area', 'Shape__Length']]\n",
    "\n",
    "X = sm.add_constant(X)\n",
    "X.reset_index(drop=True, inplace=True)  \n",
    "\n",
    "y = fire_data['ds_pm_pred']\n",
    "y.reset_index(drop=True, inplace=True)  \n",
    "\n",
    "glm_model = sm.GLM(y, X, family=sm.families.Gamma(link=sm.families.links.Log()))\n",
    "glm_results = glm_model.fit()\n",
    "print(glm_results.summary())"
   ]
  },
  {
   "cell_type": "code",
   "execution_count": 18,
   "metadata": {},
   "outputs": [
    {
     "name": "stdout",
     "output_type": "stream",
     "text": [
      "                 Generalized Linear Model Regression Results                  \n",
      "==============================================================================\n",
      "Dep. Variable:             ds_pm_pred   No. Observations:                15167\n",
      "Model:                            GLM   Df Residuals:                    15156\n",
      "Model Family:                   Gamma   Df Model:                           10\n",
      "Link Function:                    Log   Scale:                         0.20843\n",
      "Method:                          IRLS   Log-Likelihood:                -47280.\n",
      "Date:                Sun, 05 May 2024   Deviance:                       2769.0\n",
      "Time:                        17:12:10   Pearson chi2:                 3.16e+03\n",
      "No. Iterations:                    27   Pseudo R-squ. (CS):             0.2614\n",
      "Covariance Type:            nonrobust                                         \n",
      "=========================================================================================\n",
      "                            coef    std err          z      P>|z|      [0.025      0.975]\n",
      "-----------------------------------------------------------------------------------------\n",
      "const                  -241.8888     11.024    -21.942      0.000    -263.496    -220.282\n",
      "acres_frp_interaction -3.371e-11   1.08e-10     -0.313      0.754   -2.44e-10    1.77e-10\n",
      "log_frp                   0.0138      0.005      2.958      0.003       0.005       0.023\n",
      "log_acres                 0.0173      0.005      3.637      0.000       0.008       0.027\n",
      "day                      -0.0033      0.000     -7.089      0.000      -0.004      -0.002\n",
      "year                      0.1220      0.005     22.315      0.000       0.111       0.133\n",
      "month                    -0.0423      0.005     -8.260      0.000      -0.052      -0.032\n",
      "GIS_ACRES              2.939e-06   7.24e-07      4.060      0.000    1.52e-06    4.36e-06\n",
      "frp                   -3.301e-05   2.02e-05     -1.634      0.102   -7.26e-05     6.6e-06\n",
      "bright_t31               -0.0033      0.000     -8.693      0.000      -0.004      -0.003\n",
      "Shape__Area            1.332e-10    1.2e-10      1.111      0.267   -1.02e-10    3.68e-10\n",
      "Shape__Length         -1.186e-06   1.09e-07    -10.886      0.000    -1.4e-06   -9.73e-07\n",
      "=========================================================================================\n"
     ]
    }
   ],
   "source": [
    "X = fire_data[['acres_frp_interaction', 'log_frp', 'log_acres','day','year', 'month','GIS_ACRES', 'frp', 'bright_t31', 'Shape__Area', 'Shape__Length']]\n",
    "\n",
    "X = sm.add_constant(X)\n",
    "X.reset_index(drop=True, inplace=True)  \n",
    "\n",
    "y = fire_data['ds_pm_pred']\n",
    "y.reset_index(drop=True, inplace=True)  \n",
    "\n",
    "glm_model = sm.GLM(y, X, family=sm.families.Gamma(link=sm.families.links.Log()))\n",
    "glm_results = glm_model.fit()\n",
    "print(glm_results.summary())"
   ]
  },
  {
   "cell_type": "code",
   "execution_count": 27,
   "metadata": {},
   "outputs": [
    {
     "name": "stdout",
     "output_type": "stream",
     "text": [
      "Cross-validation scores: [40.78659461825231, 41.07096358117683, 41.437238339382866, 38.463752617189904, 42.688698255647466]\n",
      "Mean cross-validation score: 40.88944948232987\n"
     ]
    }
   ],
   "source": [
    "from sklearn.model_selection import KFold\n",
    "from sklearn.metrics import mean_squared_error\n",
    "\n",
    "X = fire_data[['log_frp', 'log_acres', 'day_of_week', 'year', 'month', 'GIS_ACRES', 'bright_t31', 'Shape__Length']]\n",
    "X = sm.add_constant(X)\n",
    "X.reset_index(drop=True, inplace=True)\n",
    "\n",
    "y = fire_data['ds_pm_pred']\n",
    "y.reset_index(drop=True, inplace=True)\n",
    "\n",
    "# Create KFold object\n",
    "kf = KFold(n_splits=5, shuffle=True, random_state=42)\n",
    "\n",
    "# Perform cross-validation\n",
    "cv_scores = []\n",
    "for train_index, test_index in kf.split(X):\n",
    "    X_train, X_test = X.iloc[train_index], X.iloc[test_index]\n",
    "    y_train, y_test = y.iloc[train_index], y.iloc[test_index]\n",
    "    \n",
    "    glm_model = sm.GLM(y_train, X_train, family=sm.families.Gamma(link=sm.families.links.Log()))\n",
    "    glm_results = glm_model.fit()\n",
    "    \n",
    "    y_pred = glm_results.predict(X_test)\n",
    "    mse = mean_squared_error(y_test, y_pred)\n",
    "    cv_scores.append(mse)\n",
    "\n",
    "# Print the cross-validation scores\n",
    "print(\"Cross-validation scores:\", cv_scores)\n",
    "print(\"Mean cross-validation score:\", np.mean(cv_scores))"
   ]
  },
  {
   "cell_type": "code",
   "execution_count": 35,
   "metadata": {},
   "outputs": [
    {
     "name": "stdout",
     "output_type": "stream",
     "text": [
      "                 Generalized Linear Model Regression Results                  \n",
      "==============================================================================\n",
      "Dep. Variable:             ds_pm_pred   No. Observations:                15167\n",
      "Model:                            GLM   Df Residuals:                    15159\n",
      "Model Family:                   Gamma   Df Model:                            7\n",
      "Link Function:                    Log   Scale:                         0.20209\n",
      "Method:                          IRLS   Log-Likelihood:                -47108.\n",
      "Date:                Sun, 05 May 2024   Deviance:                       2713.1\n",
      "Time:                        17:55:11   Pearson chi2:                 3.06e+03\n",
      "No. Iterations:                    41   Pseudo R-squ. (CS):             0.2816\n",
      "Covariance Type:            nonrobust                                         \n",
      "=================================================================================\n",
      "                    coef    std err          z      P>|z|      [0.025      0.975]\n",
      "---------------------------------------------------------------------------------\n",
      "const          -237.0501     10.526    -22.520      0.000    -257.681    -216.419\n",
      "log_acres         0.0142      0.005      3.039      0.002       0.005       0.023\n",
      "day_of_week       0.0347      0.002     18.450      0.000       0.031       0.038\n",
      "year              0.1195      0.005     22.871      0.000       0.109       0.130\n",
      "month            -0.0364      0.005     -7.483      0.000      -0.046      -0.027\n",
      "GIS_ACRES      1.905e-06    6.9e-07      2.762      0.006    5.53e-07    3.26e-06\n",
      "bright_t31       -0.0031      0.000    -10.141      0.000      -0.004      -0.002\n",
      "Shape__Length -1.178e-06   1.06e-07    -11.136      0.000   -1.39e-06   -9.71e-07\n",
      "Shape__Area    2.817e-10   1.15e-10      2.460      0.014    5.73e-11    5.06e-10\n",
      "=================================================================================\n"
     ]
    }
   ],
   "source": [
    "X = fire_data[['log_acres', 'day_of_week', 'year', 'month','GIS_ACRES', 'bright_t31', 'Shape__Length', 'Shape__Area']]\n",
    "\n",
    "X = sm.add_constant(X)\n",
    "X.reset_index(drop=True, inplace=True)  \n",
    "\n",
    "y = fire_data['ds_pm_pred']\n",
    "y.reset_index(drop=True, inplace=True)  \n",
    "\n",
    "glm_model = sm.GLM(y, X, family=sm.families.Gamma(link=sm.families.links.Log()))\n",
    "glm_results = glm_model.fit()\n",
    "print(glm_results.summary())"
   ]
  },
  {
   "cell_type": "markdown",
   "metadata": {},
   "source": [
    "## Random Forest"
   ]
  },
  {
   "cell_type": "code",
   "execution_count": 30,
   "metadata": {},
   "outputs": [
    {
     "name": "stdout",
     "output_type": "stream",
     "text": [
      "Random Forest - Mean Squared Error: 14.78\n",
      "Random Forest - R-squared: 0.74\n"
     ]
    }
   ],
   "source": [
    "from sklearn.ensemble import RandomForestRegressor\n",
    "from sklearn.neural_network import MLPRegressor\n",
    "from sklearn.model_selection import train_test_split\n",
    "from sklearn.metrics import mean_squared_error, r2_score\n",
    "\n",
    "X = fire_data[['frp', 'log_acres', 'day_of_week', 'year', 'month','GIS_ACRES', 'bright_t31', 'Shape__Area', 'Shape__Length']]\n",
    "y = fire_data['ds_pm_pred']\n",
    "\n",
    "# Split the data into training and testing sets\n",
    "X_train, X_test, y_train, y_test = train_test_split(X, y, test_size=0.2, random_state=42)\n",
    "\n",
    "# Random Forest model\n",
    "rf = RandomForestRegressor(n_estimators=100, random_state=42)\n",
    "rf.fit(X_train, y_train)\n",
    "\n",
    "y_pred_rf = rf.predict(X_test)\n",
    "mse_rf = mean_squared_error(y_test, y_pred_rf)\n",
    "r2_rf = r2_score(y_test, y_pred_rf)\n",
    "\n",
    "print(f\"Random Forest - Mean Squared Error: {mse_rf:.2f}\")\n",
    "print(f\"Random Forest - R-squared: {r2_rf:.2f}\")"
   ]
  },
  {
   "cell_type": "markdown",
   "metadata": {},
   "source": [
    "## Neural Net"
   ]
  },
  {
   "cell_type": "code",
   "execution_count": 32,
   "metadata": {},
   "outputs": [
    {
     "name": "stdout",
     "output_type": "stream",
     "text": [
      "Neural Network - Mean Squared Error: 25.46\n",
      "Neural Network - R-squared: 0.55\n"
     ]
    },
    {
     "name": "stderr",
     "output_type": "stream",
     "text": [
      "/Users/otaira/.pyenv/versions/3.12.2/envs/emberalert/lib/python3.12/site-packages/sklearn/neural_network/_multilayer_perceptron.py:691: ConvergenceWarning: Stochastic Optimizer: Maximum iterations (200) reached and the optimization hasn't converged yet.\n",
      "  warnings.warn(\n"
     ]
    }
   ],
   "source": [
    "from sklearn.preprocessing import MinMaxScaler\n",
    "\n",
    "scaler = MinMaxScaler()\n",
    "X_train_scaled = scaler.fit_transform(X_train)\n",
    "X_test_scaled = scaler.transform(X_test)\n",
    "\n",
    "nn = MLPRegressor(hidden_layer_sizes=(100, 50), activation='relu', solver='adam', random_state=42)\n",
    "nn.fit(X_train_scaled, y_train)\n",
    "\n",
    "y_pred_nn = nn.predict(X_test_scaled)\n",
    "mse_nn = mean_squared_error(y_test, y_pred_nn)\n",
    "r2_nn = r2_score(y_test, y_pred_nn)\n",
    "\n",
    "print(f\"Neural Network - Mean Squared Error: {mse_nn:.2f}\")\n",
    "print(f\"Neural Network - R-squared: {r2_nn:.2f}\")"
   ]
  },
  {
   "cell_type": "code",
   "execution_count": null,
   "metadata": {},
   "outputs": [],
   "source": []
  }
 ],
 "metadata": {
  "kernelspec": {
   "display_name": "emberalert",
   "language": "python",
   "name": "python3"
  },
  "language_info": {
   "codemirror_mode": {
    "name": "ipython",
    "version": 3
   },
   "file_extension": ".py",
   "mimetype": "text/x-python",
   "name": "python",
   "nbconvert_exporter": "python",
   "pygments_lexer": "ipython3",
   "version": "3.12.2"
  }
 },
 "nbformat": 4,
 "nbformat_minor": 2
}
