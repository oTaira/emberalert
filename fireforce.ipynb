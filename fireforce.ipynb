{
 "cells": [
  {
   "cell_type": "code",
   "execution_count": 30,
   "metadata": {},
   "outputs": [
    {
     "name": "stdout",
     "output_type": "stream",
     "text": [
      "\u001b[33mDEPRECATION: Loading egg at /opt/homebrew/lib/python3.11/site-packages/geopandas-0.9.0-py3.11.egg is deprecated. pip 24.3 will enforce this behaviour change. A possible replacement is to use pip for package installation.. Discussion can be found at https://github.com/pypa/pip/issues/12330\u001b[0m\u001b[33m\n",
      "\u001b[0mCollecting haversine\n",
      "  Downloading haversine-2.8.1-py2.py3-none-any.whl.metadata (5.9 kB)\n",
      "Downloading haversine-2.8.1-py2.py3-none-any.whl (7.7 kB)\n",
      "Installing collected packages: haversine\n",
      "Successfully installed haversine-2.8.1\n",
      "\n",
      "\u001b[1m[\u001b[0m\u001b[34;49mnotice\u001b[0m\u001b[1;39;49m]\u001b[0m\u001b[39;49m A new release of pip is available: \u001b[0m\u001b[31;49m23.3.1\u001b[0m\u001b[39;49m -> \u001b[0m\u001b[32;49m24.0\u001b[0m\n",
      "\u001b[1m[\u001b[0m\u001b[34;49mnotice\u001b[0m\u001b[1;39;49m]\u001b[0m\u001b[39;49m To update, run: \u001b[0m\u001b[32;49mpython3.11 -m pip install --upgrade pip\u001b[0m\n",
      "Note: you may need to restart the kernel to use updated packages.\n"
     ]
    }
   ],
   "source": [
    "%pip install haversine"
   ]
  },
  {
   "cell_type": "code",
   "execution_count": 1,
   "metadata": {},
   "outputs": [
    {
     "name": "stdout",
     "output_type": "stream",
     "text": [
      "\u001b[34mCSV Attribute Table Exports\u001b[m\u001b[m\n",
      "Daily_Census_Tract-Level_PM2.5_Concentrations__2011-2014_20240413.csv\n",
      "LICENSE\n",
      "ca_daily_fire_2000_2021.csv\n",
      "factories.ipynb\n",
      "fireforce.ipynb\n",
      "test.txt\n"
     ]
    }
   ],
   "source": [
    "!ls"
   ]
  },
  {
   "cell_type": "code",
   "execution_count": 2,
   "metadata": {},
   "outputs": [
    {
     "name": "stderr",
     "output_type": "stream",
     "text": [
      "/var/folders/19/r56dh6d15dvbmqph7x4f4r3m0000gn/T/ipykernel_62320/3125623339.py:1: DeprecationWarning: \n",
      "Pyarrow will become a required dependency of pandas in the next major release of pandas (pandas 3.0),\n",
      "(to allow more performant data types, such as the Arrow string type, and better interoperability with other libraries)\n",
      "but was not found to be installed on your system.\n",
      "If this would cause problems for you,\n",
      "please provide us feedback at https://github.com/pandas-dev/pandas/issues/54466\n",
      "        \n",
      "  import pandas as pd\n"
     ]
    }
   ],
   "source": [
    "import pandas as pd\n",
    "import numpy as np\n",
    "import matplotlib.pyplot as plt\n",
    "from haversine import haversine, Unit"
   ]
  },
  {
   "cell_type": "code",
   "execution_count": 3,
   "metadata": {},
   "outputs": [
    {
     "data": {
      "text/html": [
       "<div>\n",
       "<style scoped>\n",
       "    .dataframe tbody tr th:only-of-type {\n",
       "        vertical-align: middle;\n",
       "    }\n",
       "\n",
       "    .dataframe tbody tr th {\n",
       "        vertical-align: top;\n",
       "    }\n",
       "\n",
       "    .dataframe thead th {\n",
       "        text-align: right;\n",
       "    }\n",
       "</style>\n",
       "<table border=\"1\" class=\"dataframe\">\n",
       "  <thead>\n",
       "    <tr style=\"text-align: right;\">\n",
       "      <th></th>\n",
       "      <th>latitude</th>\n",
       "      <th>longitude</th>\n",
       "      <th>acq_date</th>\n",
       "      <th>satellite</th>\n",
       "      <th>instrument</th>\n",
       "      <th>confidence</th>\n",
       "      <th>year</th>\n",
       "      <th>month</th>\n",
       "    </tr>\n",
       "  </thead>\n",
       "  <tbody>\n",
       "    <tr>\n",
       "      <th>0</th>\n",
       "      <td>32.436893</td>\n",
       "      <td>-114.597054</td>\n",
       "      <td>2014-06-15</td>\n",
       "      <td>N</td>\n",
       "      <td>VIIRS</td>\n",
       "      <td>100</td>\n",
       "      <td>2014</td>\n",
       "      <td>6</td>\n",
       "    </tr>\n",
       "    <tr>\n",
       "      <th>1</th>\n",
       "      <td>32.456921</td>\n",
       "      <td>-114.598595</td>\n",
       "      <td>2014-06-15</td>\n",
       "      <td>N</td>\n",
       "      <td>VIIRS</td>\n",
       "      <td>100</td>\n",
       "      <td>2014</td>\n",
       "      <td>6</td>\n",
       "    </tr>\n",
       "    <tr>\n",
       "      <th>2</th>\n",
       "      <td>32.457344</td>\n",
       "      <td>-114.596558</td>\n",
       "      <td>2014-06-15</td>\n",
       "      <td>N</td>\n",
       "      <td>VIIRS</td>\n",
       "      <td>100</td>\n",
       "      <td>2014</td>\n",
       "      <td>6</td>\n",
       "    </tr>\n",
       "    <tr>\n",
       "      <th>3</th>\n",
       "      <td>32.458092</td>\n",
       "      <td>-114.592819</td>\n",
       "      <td>2014-06-15</td>\n",
       "      <td>N</td>\n",
       "      <td>VIIRS</td>\n",
       "      <td>100</td>\n",
       "      <td>2014</td>\n",
       "      <td>6</td>\n",
       "    </tr>\n",
       "    <tr>\n",
       "      <th>4</th>\n",
       "      <td>32.461948</td>\n",
       "      <td>-114.593880</td>\n",
       "      <td>2014-06-15</td>\n",
       "      <td>N</td>\n",
       "      <td>VIIRS</td>\n",
       "      <td>100</td>\n",
       "      <td>2014</td>\n",
       "      <td>6</td>\n",
       "    </tr>\n",
       "  </tbody>\n",
       "</table>\n",
       "</div>"
      ],
      "text/plain": [
       "    latitude   longitude    acq_date satellite instrument  confidence  year  \\\n",
       "0  32.436893 -114.597054  2014-06-15         N      VIIRS         100  2014   \n",
       "1  32.456921 -114.598595  2014-06-15         N      VIIRS         100  2014   \n",
       "2  32.457344 -114.596558  2014-06-15         N      VIIRS         100  2014   \n",
       "3  32.458092 -114.592819  2014-06-15         N      VIIRS         100  2014   \n",
       "4  32.461948 -114.593880  2014-06-15         N      VIIRS         100  2014   \n",
       "\n",
       "   month  \n",
       "0      6  \n",
       "1      6  \n",
       "2      6  \n",
       "3      6  \n",
       "4      6  "
      ]
     },
     "execution_count": 3,
     "metadata": {},
     "output_type": "execute_result"
    }
   ],
   "source": [
    "fire = pd.read_csv(\"./ca_daily_fire_2000_2021.csv\")\n",
    "fire.head()"
   ]
  },
  {
   "cell_type": "code",
   "execution_count": 4,
   "metadata": {},
   "outputs": [
    {
     "data": {
      "text/html": [
       "<div>\n",
       "<style scoped>\n",
       "    .dataframe tbody tr th:only-of-type {\n",
       "        vertical-align: middle;\n",
       "    }\n",
       "\n",
       "    .dataframe tbody tr th {\n",
       "        vertical-align: top;\n",
       "    }\n",
       "\n",
       "    .dataframe thead th {\n",
       "        text-align: right;\n",
       "    }\n",
       "</style>\n",
       "<table border=\"1\" class=\"dataframe\">\n",
       "  <thead>\n",
       "    <tr style=\"text-align: right;\">\n",
       "      <th></th>\n",
       "      <th>year</th>\n",
       "      <th>date</th>\n",
       "      <th>statefips</th>\n",
       "      <th>countyfips</th>\n",
       "      <th>ctfips</th>\n",
       "      <th>latitude</th>\n",
       "      <th>longitude</th>\n",
       "      <th>ds_pm_pred</th>\n",
       "      <th>ds_pm_stdd</th>\n",
       "    </tr>\n",
       "  </thead>\n",
       "  <tbody>\n",
       "    <tr>\n",
       "      <th>0</th>\n",
       "      <td>2011</td>\n",
       "      <td>30DEC2011</td>\n",
       "      <td>48</td>\n",
       "      <td>48399</td>\n",
       "      <td>48399950100</td>\n",
       "      <td>31.96861</td>\n",
       "      <td>-99.99100</td>\n",
       "      <td>7.590561</td>\n",
       "      <td>5.439812</td>\n",
       "    </tr>\n",
       "    <tr>\n",
       "      <th>1</th>\n",
       "      <td>2011</td>\n",
       "      <td>30DEC2011</td>\n",
       "      <td>48</td>\n",
       "      <td>48399</td>\n",
       "      <td>48399950200</td>\n",
       "      <td>31.95574</td>\n",
       "      <td>-99.96764</td>\n",
       "      <td>7.660033</td>\n",
       "      <td>5.666294</td>\n",
       "    </tr>\n",
       "    <tr>\n",
       "      <th>2</th>\n",
       "      <td>2011</td>\n",
       "      <td>30DEC2011</td>\n",
       "      <td>48</td>\n",
       "      <td>48399</td>\n",
       "      <td>48399950500</td>\n",
       "      <td>31.65529</td>\n",
       "      <td>-100.05925</td>\n",
       "      <td>7.355021</td>\n",
       "      <td>5.490203</td>\n",
       "    </tr>\n",
       "    <tr>\n",
       "      <th>3</th>\n",
       "      <td>2011</td>\n",
       "      <td>30DEC2011</td>\n",
       "      <td>48</td>\n",
       "      <td>48399</td>\n",
       "      <td>48399950600</td>\n",
       "      <td>31.76387</td>\n",
       "      <td>-99.89893</td>\n",
       "      <td>7.436393</td>\n",
       "      <td>5.247210</td>\n",
       "    </tr>\n",
       "    <tr>\n",
       "      <th>4</th>\n",
       "      <td>2011</td>\n",
       "      <td>30DEC2011</td>\n",
       "      <td>48</td>\n",
       "      <td>48401</td>\n",
       "      <td>48401950100</td>\n",
       "      <td>32.31673</td>\n",
       "      <td>-94.60574</td>\n",
       "      <td>11.107991</td>\n",
       "      <td>6.297006</td>\n",
       "    </tr>\n",
       "  </tbody>\n",
       "</table>\n",
       "</div>"
      ],
      "text/plain": [
       "   year       date  statefips  countyfips       ctfips  latitude  longitude  \\\n",
       "0  2011  30DEC2011         48       48399  48399950100  31.96861  -99.99100   \n",
       "1  2011  30DEC2011         48       48399  48399950200  31.95574  -99.96764   \n",
       "2  2011  30DEC2011         48       48399  48399950500  31.65529 -100.05925   \n",
       "3  2011  30DEC2011         48       48399  48399950600  31.76387  -99.89893   \n",
       "4  2011  30DEC2011         48       48401  48401950100  32.31673  -94.60574   \n",
       "\n",
       "   ds_pm_pred  ds_pm_stdd  \n",
       "0    7.590561    5.439812  \n",
       "1    7.660033    5.666294  \n",
       "2    7.355021    5.490203  \n",
       "3    7.436393    5.247210  \n",
       "4   11.107991    6.297006  "
      ]
     },
     "execution_count": 4,
     "metadata": {},
     "output_type": "execute_result"
    }
   ],
   "source": [
    "pm = pd.read_csv(\"./Daily_Census_Tract-Level_PM2.5_Concentrations__2011-2014_20240413.csv\")\n",
    "pm.head()\n"
   ]
  },
  {
   "cell_type": "code",
   "execution_count": 1,
   "metadata": {},
   "outputs": [
    {
     "ename": "NameError",
     "evalue": "name 'fire' is not defined",
     "output_type": "error",
     "traceback": [
      "\u001b[0;31m---------------------------------------------------------------------------\u001b[0m",
      "\u001b[0;31mNameError\u001b[0m                                 Traceback (most recent call last)",
      "Cell \u001b[0;32mIn[1], line 1\u001b[0m\n\u001b[0;32m----> 1\u001b[0m \u001b[43mfire\u001b[49m\u001b[38;5;241m.\u001b[39mcolumns\n",
      "\u001b[0;31mNameError\u001b[0m: name 'fire' is not defined"
     ]
    }
   ],
   "source": [
    "fire.columns"
   ]
  },
  {
   "cell_type": "code",
   "execution_count": 9,
   "metadata": {},
   "outputs": [
    {
     "data": {
      "text/plain": [
       "Index(['year', 'date', 'statefips', 'countyfips', 'ctfips', 'latitude',\n",
       "       'longitude', 'ds_pm_pred', 'ds_pm_stdd'],\n",
       "      dtype='object')"
      ]
     },
     "execution_count": 9,
     "metadata": {},
     "output_type": "execute_result"
    }
   ],
   "source": [
    "pm.columns"
   ]
  },
  {
   "cell_type": "code",
   "execution_count": 5,
   "metadata": {},
   "outputs": [
    {
     "name": "stderr",
     "output_type": "stream",
     "text": [
      "/var/folders/19/r56dh6d15dvbmqph7x4f4r3m0000gn/T/ipykernel_62320/3723032135.py:2: UserWarning: Could not infer format, so each element will be parsed individually, falling back to `dateutil`. To ensure parsing is consistent and as-expected, please specify a format.\n",
      "  pm['date'] = pd.to_datetime(pm['date'])\n"
     ]
    }
   ],
   "source": [
    "fire[\"acq_date\"] = pd.to_datetime(fire['acq_date'])\n",
    "pm['date'] = pd.to_datetime(pm['date'])"
   ]
  },
  {
   "cell_type": "code",
   "execution_count": 9,
   "metadata": {},
   "outputs": [],
   "source": [
    "precision = 3  \n",
    "fire['rounded_latitude'] = fire['latitude'].round(precision)\n",
    "fire['rounded_longitude'] = fire['longitude'].round(precision)\n",
    "pm['rounded_latitude'] = pm['latitude'].round(precision)\n",
    "pm['rounded_longitude'] = pm['longitude'].round(precision)"
   ]
  },
  {
   "cell_type": "code",
   "execution_count": 10,
   "metadata": {},
   "outputs": [],
   "source": [
    "merged_df = pd.merge(pm, fire, how='left', left_on=['rounded_latitude', 'rounded_longitude', 'date'], right_on=['rounded_latitude', 'rounded_longitude', 'acq_date'])\n",
    "merged_df.head()"
   ]
  },
  {
   "cell_type": "code",
   "execution_count": 1,
   "metadata": {},
   "outputs": [
    {
     "data": {
      "text/plain": [
       "'/Users/renesmeey/Data102/emberalert-1'"
      ]
     },
     "execution_count": 1,
     "metadata": {},
     "output_type": "execute_result"
    }
   ],
   "source": [
    "pwd"
   ]
  },
  {
   "cell_type": "code",
   "execution_count": null,
   "metadata": {},
   "outputs": [],
   "source": [
    "def calculate_distance(lat1, lon1, lat2, lon2):\n",
    "    return haversine((lat1, lon1), (lat2, lon2))\n",
    "\n",
    "def categorize_distance(distance):\n",
    "    if distance < 10:\n",
    "        return '0-10 km'\n",
    "    elif distance < 50:\n",
    "        return '10-50 km'\n",
    "    elif distance < 100:\n",
    "        return '50-100 km'\n",
    "    else:\n",
    "        return '100+ km'\n",
    "\n",
    "# Calculate distances for each row in the merged dataset\n",
    "merged_df['distance'] = merged_df.apply(\n",
    "    lambda row: calculate_distance(row['latitude_x'], row['longitude_x'], row['latitude_y'], row['longitude_y']),\n",
    "    axis=1\n",
    ")\n",
    "\n",
    "# Categorize distances\n",
    "merged_df['distance_category'] = merged_df['distance'].apply(categorize_distance)\n",
    "\n",
    "# Remove unnecessary columns for visualization\n",
    "cleaned_df = merged_df[['date', 'ds_pm_pred', 'distance_category']]\n",
    "\n",
    "# Group by date and distance category to calculate average PM 2.5 levels\n",
    "final_df = cleaned_df.groupby(['date', 'distance_category']).mean().reset_index()\n",
    "\n",
    "# Print final prepared DataFrame\n",
    "print(final_df.head())\n"
   ]
  },
  {
   "cell_type": "code",
   "execution_count": null,
   "metadata": {},
   "outputs": [],
   "source": [
    "# Assuming df_fire and df_pm are your pre-loaded datasets\n",
    "# You would need to preprocess these datasets as described above.\n",
    "\n",
    "# Example of plotting\n",
    "plt.figure(figsize=(10, 6))\n",
    "for category in distance_categories:\n",
    "    subset = df_pm[df_pm['distance_category'] == category]\n",
    "    plt.plot(subset['date'], subset['ds_pm_pred'], label=f'Distance: {category} km')\n",
    "\n",
    "plt.xlabel('Date')\n",
    "plt.ylabel('PM 2.5 Levels')\n",
    "plt.title('PM 2.5 Levels Over Time by Proximity to Wildfire Events')\n",
    "plt.legend()\n",
    "plt.show()"
   ]
  },
  {
   "cell_type": "code",
   "execution_count": null,
   "metadata": {},
   "outputs": [],
   "source": []
  }
 ],
 "metadata": {
  "kernelspec": {
   "display_name": "Python 3.11.7 64-bit",
   "language": "python",
   "name": "python3"
  },
  "language_info": {
   "codemirror_mode": {
    "name": "ipython",
    "version": 3
   },
   "file_extension": ".py",
   "mimetype": "text/x-python",
   "name": "python",
   "nbconvert_exporter": "python",
   "pygments_lexer": "ipython3",
   "version": "3.12.2"
  },
  "orig_nbformat": 4,
  "vscode": {
   "interpreter": {
    "hash": "b0fa6594d8f4cbf19f97940f81e996739fb7646882a419484c72d19e05852a7e"
   }
  }
 },
 "nbformat": 4,
 "nbformat_minor": 2
}
