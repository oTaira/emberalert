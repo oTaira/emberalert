{
 "cells": [
  {
   "cell_type": "code",
   "execution_count": 1,
   "metadata": {},
   "outputs": [],
   "source": [
    "import pandas as pd\n",
    "import numpy as np\n",
    "import matplotlib.pyplot as plt"
   ]
  },
  {
   "cell_type": "code",
   "execution_count": 2,
   "metadata": {},
   "outputs": [
    {
     "data": {
      "text/html": [
       "<div>\n",
       "<style scoped>\n",
       "    .dataframe tbody tr th:only-of-type {\n",
       "        vertical-align: middle;\n",
       "    }\n",
       "\n",
       "    .dataframe tbody tr th {\n",
       "        vertical-align: top;\n",
       "    }\n",
       "\n",
       "    .dataframe thead th {\n",
       "        text-align: right;\n",
       "    }\n",
       "</style>\n",
       "<table border=\"1\" class=\"dataframe\">\n",
       "  <thead>\n",
       "    <tr style=\"text-align: right;\">\n",
       "      <th></th>\n",
       "      <th>latitude</th>\n",
       "      <th>longitude</th>\n",
       "      <th>acq_date</th>\n",
       "      <th>satellite</th>\n",
       "      <th>instrument</th>\n",
       "      <th>frp</th>\n",
       "      <th>type</th>\n",
       "      <th>bright_t31</th>\n",
       "      <th>confidence</th>\n",
       "      <th>year</th>\n",
       "      <th>month</th>\n",
       "    </tr>\n",
       "  </thead>\n",
       "  <tbody>\n",
       "    <tr>\n",
       "      <th>0</th>\n",
       "      <td>32.4646</td>\n",
       "      <td>-114.6906</td>\n",
       "      <td>2011-06-29</td>\n",
       "      <td>Terra</td>\n",
       "      <td>MODIS</td>\n",
       "      <td>91.1</td>\n",
       "      <td>0</td>\n",
       "      <td>315.7</td>\n",
       "      <td>84</td>\n",
       "      <td>2011</td>\n",
       "      <td>6</td>\n",
       "    </tr>\n",
       "    <tr>\n",
       "      <th>1</th>\n",
       "      <td>32.4768</td>\n",
       "      <td>-114.6785</td>\n",
       "      <td>2011-10-11</td>\n",
       "      <td>Terra</td>\n",
       "      <td>MODIS</td>\n",
       "      <td>96.2</td>\n",
       "      <td>0</td>\n",
       "      <td>313.7</td>\n",
       "      <td>100</td>\n",
       "      <td>2011</td>\n",
       "      <td>10</td>\n",
       "    </tr>\n",
       "    <tr>\n",
       "      <th>2</th>\n",
       "      <td>32.4937</td>\n",
       "      <td>-114.7856</td>\n",
       "      <td>2013-02-06</td>\n",
       "      <td>Terra</td>\n",
       "      <td>MODIS</td>\n",
       "      <td>26.9</td>\n",
       "      <td>0</td>\n",
       "      <td>296.1</td>\n",
       "      <td>65</td>\n",
       "      <td>2013</td>\n",
       "      <td>2</td>\n",
       "    </tr>\n",
       "    <tr>\n",
       "      <th>5</th>\n",
       "      <td>32.5006</td>\n",
       "      <td>-114.7917</td>\n",
       "      <td>2013-02-06</td>\n",
       "      <td>Terra</td>\n",
       "      <td>MODIS</td>\n",
       "      <td>45.0</td>\n",
       "      <td>0</td>\n",
       "      <td>296.4</td>\n",
       "      <td>74</td>\n",
       "      <td>2013</td>\n",
       "      <td>2</td>\n",
       "    </tr>\n",
       "    <tr>\n",
       "      <th>13</th>\n",
       "      <td>32.5167</td>\n",
       "      <td>-114.7978</td>\n",
       "      <td>2011-11-05</td>\n",
       "      <td>Terra</td>\n",
       "      <td>MODIS</td>\n",
       "      <td>8.2</td>\n",
       "      <td>0</td>\n",
       "      <td>295.7</td>\n",
       "      <td>65</td>\n",
       "      <td>2011</td>\n",
       "      <td>11</td>\n",
       "    </tr>\n",
       "  </tbody>\n",
       "</table>\n",
       "</div>"
      ],
      "text/plain": [
       "    latitude  longitude    acq_date satellite instrument   frp  type  \\\n",
       "0    32.4646  -114.6906  2011-06-29     Terra      MODIS  91.1     0   \n",
       "1    32.4768  -114.6785  2011-10-11     Terra      MODIS  96.2     0   \n",
       "2    32.4937  -114.7856  2013-02-06     Terra      MODIS  26.9     0   \n",
       "5    32.5006  -114.7917  2013-02-06     Terra      MODIS  45.0     0   \n",
       "13   32.5167  -114.7978  2011-11-05     Terra      MODIS   8.2     0   \n",
       "\n",
       "    bright_t31  confidence  year  month  \n",
       "0        315.7          84  2011      6  \n",
       "1        313.7         100  2011     10  \n",
       "2        296.1          65  2013      2  \n",
       "5        296.4          74  2013      2  \n",
       "13       295.7          65  2011     11  "
      ]
     },
     "execution_count": 2,
     "metadata": {},
     "output_type": "execute_result"
    }
   ],
   "source": [
    "fire = pd.read_csv(\"./ca_daily_fire_2000_2021-v2.csv\")\n",
    "fire_filt = fire[(fire[\"year\"] >= 2011) & (fire[\"year\"] <= 2014) ]\n",
    "fire_filt.head()"
   ]
  },
  {
   "cell_type": "code",
   "execution_count": 14,
   "metadata": {},
   "outputs": [],
   "source": [
    "pm = pd.read_csv(\"./Daily_Census_Tract-Level_PM2.5_Concentrations__2011-2014_20240413.csv\")\n"
   ]
  },
  {
   "cell_type": "code",
   "execution_count": 5,
   "metadata": {},
   "outputs": [
    {
     "data": {
      "text/plain": [
       "Index(['latitude', 'longitude', 'acq_date', 'satellite', 'instrument', 'frp',\n",
       "       'type', 'bright_t31', 'confidence', 'year', 'month'],\n",
       "      dtype='object')"
      ]
     },
     "execution_count": 5,
     "metadata": {},
     "output_type": "execute_result"
    }
   ],
   "source": [
    "fire.columns"
   ]
  },
  {
   "cell_type": "code",
   "execution_count": 12,
   "metadata": {},
   "outputs": [
    {
     "data": {
      "text/plain": [
       "'30DEC2011'"
      ]
     },
     "execution_count": 12,
     "metadata": {},
     "output_type": "execute_result"
    }
   ],
   "source": [
    "pm[\"date\"][2]\n"
   ]
  },
  {
   "cell_type": "code",
   "execution_count": 6,
   "metadata": {},
   "outputs": [
    {
     "data": {
      "text/plain": [
       "Index(['year', 'date', 'statefips', 'countyfips', 'ctfips', 'latitude',\n",
       "       'longitude', 'ds_pm_pred', 'ds_pm_stdd'],\n",
       "      dtype='object')"
      ]
     },
     "execution_count": 6,
     "metadata": {},
     "output_type": "execute_result"
    }
   ],
   "source": [
    "pm.columns"
   ]
  },
  {
   "cell_type": "markdown",
   "metadata": {},
   "source": [
    "fire['StartedMonth'] = [x.month for x in wf['Started']]\n",
    "monthly_count = wf.groupby([\"ArchiveYear\",\"StartedMonth\"])['AcresBurned'].count().reset_index()\n",
    "monthly_count.rename(columns={\"AcresBurned\": \"WildfireCount\"}, inplace=True)\n",
    "monthly_count"
   ]
  },
  {
   "cell_type": "code",
   "execution_count": 25,
   "metadata": {},
   "outputs": [],
   "source": [
    "precision = 3  \n",
    "fire['rounded_latitude'] = fire['latitude'].round(precision)\n",
    "fire['rounded_longitude'] = fire['longitude'].round(precision)\n",
    "pm['rounded_latitude'] = pm['latitude'].round(precision)\n",
    "pm['rounded_longitude'] = pm['longitude'].round(precision)"
   ]
  },
  {
   "cell_type": "code",
   "execution_count": 9,
   "metadata": {},
   "outputs": [
    {
     "data": {
      "text/html": [
       "<div>\n",
       "<style scoped>\n",
       "    .dataframe tbody tr th:only-of-type {\n",
       "        vertical-align: middle;\n",
       "    }\n",
       "\n",
       "    .dataframe tbody tr th {\n",
       "        vertical-align: top;\n",
       "    }\n",
       "\n",
       "    .dataframe thead th {\n",
       "        text-align: right;\n",
       "    }\n",
       "</style>\n",
       "<table border=\"1\" class=\"dataframe\">\n",
       "  <thead>\n",
       "    <tr style=\"text-align: right;\">\n",
       "      <th></th>\n",
       "      <th>year</th>\n",
       "      <th>month</th>\n",
       "      <th>frpcount</th>\n",
       "    </tr>\n",
       "  </thead>\n",
       "  <tbody>\n",
       "    <tr>\n",
       "      <th>0</th>\n",
       "      <td>2011</td>\n",
       "      <td>1</td>\n",
       "      <td>95</td>\n",
       "    </tr>\n",
       "    <tr>\n",
       "      <th>1</th>\n",
       "      <td>2011</td>\n",
       "      <td>2</td>\n",
       "      <td>220</td>\n",
       "    </tr>\n",
       "    <tr>\n",
       "      <th>2</th>\n",
       "      <td>2011</td>\n",
       "      <td>3</td>\n",
       "      <td>111</td>\n",
       "    </tr>\n",
       "    <tr>\n",
       "      <th>3</th>\n",
       "      <td>2011</td>\n",
       "      <td>4</td>\n",
       "      <td>243</td>\n",
       "    </tr>\n",
       "    <tr>\n",
       "      <th>4</th>\n",
       "      <td>2011</td>\n",
       "      <td>5</td>\n",
       "      <td>137</td>\n",
       "    </tr>\n",
       "  </tbody>\n",
       "</table>\n",
       "</div>"
      ],
      "text/plain": [
       "   year  month  frpcount\n",
       "0  2011      1        95\n",
       "1  2011      2       220\n",
       "2  2011      3       111\n",
       "3  2011      4       243\n",
       "4  2011      5       137"
      ]
     },
     "execution_count": 9,
     "metadata": {},
     "output_type": "execute_result"
    }
   ],
   "source": [
    "monthly_count = fire_filt.groupby([\"year\",\"month\"])['frp'].count().reset_index()\n",
    "monthly_count.rename(columns={\"frp\": \"frpcount\"}, inplace=True)\n",
    "monthly_count.head()"
   ]
  },
  {
   "cell_type": "code",
   "execution_count": 10,
   "metadata": {},
   "outputs": [
    {
     "data": {
      "image/png": "[encoded data removed]",
      "text/plain": [
       "<Figure size 640x480 with 1 Axes>"
      ]
     },
     "metadata": {},
     "output_type": "display_data"
    }
   ],
   "source": [
    "monthly_count['month'] = pd.Categorical(monthly_count['month'], categories=[1, 2, 3, 4, 5, 6, 7, 8, 9, 10, 11, 12],\n",
    "                                        ordered=True)\n",
    "                                        \n",
    "for year in monthly_count['year'].unique():\n",
    "    subset = monthly_count[monthly_count['year'] == year]\n",
    "    plt.plot(subset['month'], subset['frpcount'], label=str(year))\n",
    "\n",
    "plt.title('FRP Count in Each Month, 2011-2014')  # Title\n",
    "plt.xlabel('Month')  # X-axis label\n",
    "plt.ylabel('FRP Count')  # Y-axis label\n",
    "plt.legend(title='Year', loc='upper right')  # Legend with title\n",
    "plt.grid(True)  # Optional: add grid for better readability"
   ]
  },
  {
   "cell_type": "code",
   "execution_count": null,
   "metadata": {},
   "outputs": [],
   "source": [
    "monthly_count = pm.groupby([\"year\",\"month\"])['frp'].count().reset_index()\n",
    "monthly_count.rename(columns={\"frp\": \"frpcount\"}, inplace=True)\n",
    "monthly_count.head()"
   ]
  },
  {
   "cell_type": "code",
   "execution_count": 16,
   "metadata": {},
   "outputs": [
    {
     "data": {
      "text/html": [
       "<div>\n",
       "<style scoped>\n",
       "    .dataframe tbody tr th:only-of-type {\n",
       "        vertical-align: middle;\n",
       "    }\n",
       "\n",
       "    .dataframe tbody tr th {\n",
       "        vertical-align: top;\n",
       "    }\n",
       "\n",
       "    .dataframe thead th {\n",
       "        text-align: right;\n",
       "    }\n",
       "</style>\n",
       "<table border=\"1\" class=\"dataframe\">\n",
       "  <thead>\n",
       "    <tr style=\"text-align: right;\">\n",
       "      <th></th>\n",
       "      <th>year</th>\n",
       "      <th>date</th>\n",
       "      <th>statefips</th>\n",
       "      <th>countyfips</th>\n",
       "      <th>ctfips</th>\n",
       "      <th>latitude</th>\n",
       "      <th>longitude</th>\n",
       "      <th>ds_pm_pred</th>\n",
       "      <th>ds_pm_stdd</th>\n",
       "      <th>date_parsed</th>\n",
       "      <th>month</th>\n",
       "    </tr>\n",
       "  </thead>\n",
       "  <tbody>\n",
       "    <tr>\n",
       "      <th>0</th>\n",
       "      <td>2011</td>\n",
       "      <td>30DEC2011</td>\n",
       "      <td>48</td>\n",
       "      <td>48399</td>\n",
       "      <td>48399950100</td>\n",
       "      <td>31.96861</td>\n",
       "      <td>-99.99100</td>\n",
       "      <td>7.590561</td>\n",
       "      <td>5.439812</td>\n",
       "      <td>2011-12-30</td>\n",
       "      <td>12</td>\n",
       "    </tr>\n",
       "    <tr>\n",
       "      <th>1</th>\n",
       "      <td>2011</td>\n",
       "      <td>30DEC2011</td>\n",
       "      <td>48</td>\n",
       "      <td>48399</td>\n",
       "      <td>48399950200</td>\n",
       "      <td>31.95574</td>\n",
       "      <td>-99.96764</td>\n",
       "      <td>7.660033</td>\n",
       "      <td>5.666294</td>\n",
       "      <td>2011-12-30</td>\n",
       "      <td>12</td>\n",
       "    </tr>\n",
       "    <tr>\n",
       "      <th>2</th>\n",
       "      <td>2011</td>\n",
       "      <td>30DEC2011</td>\n",
       "      <td>48</td>\n",
       "      <td>48399</td>\n",
       "      <td>48399950500</td>\n",
       "      <td>31.65529</td>\n",
       "      <td>-100.05925</td>\n",
       "      <td>7.355021</td>\n",
       "      <td>5.490203</td>\n",
       "      <td>2011-12-30</td>\n",
       "      <td>12</td>\n",
       "    </tr>\n",
       "    <tr>\n",
       "      <th>3</th>\n",
       "      <td>2011</td>\n",
       "      <td>30DEC2011</td>\n",
       "      <td>48</td>\n",
       "      <td>48399</td>\n",
       "      <td>48399950600</td>\n",
       "      <td>31.76387</td>\n",
       "      <td>-99.89893</td>\n",
       "      <td>7.436393</td>\n",
       "      <td>5.247210</td>\n",
       "      <td>2011-12-30</td>\n",
       "      <td>12</td>\n",
       "    </tr>\n",
       "    <tr>\n",
       "      <th>4</th>\n",
       "      <td>2011</td>\n",
       "      <td>30DEC2011</td>\n",
       "      <td>48</td>\n",
       "      <td>48401</td>\n",
       "      <td>48401950100</td>\n",
       "      <td>32.31673</td>\n",
       "      <td>-94.60574</td>\n",
       "      <td>11.107991</td>\n",
       "      <td>6.297006</td>\n",
       "      <td>2011-12-30</td>\n",
       "      <td>12</td>\n",
       "    </tr>\n",
       "  </tbody>\n",
       "</table>\n",
       "</div>"
      ],
      "text/plain": [
       "   year       date  statefips  countyfips       ctfips  latitude  longitude  \\\n",
       "0  2011  30DEC2011         48       48399  48399950100  31.96861  -99.99100   \n",
       "1  2011  30DEC2011         48       48399  48399950200  31.95574  -99.96764   \n",
       "2  2011  30DEC2011         48       48399  48399950500  31.65529 -100.05925   \n",
       "3  2011  30DEC2011         48       48399  48399950600  31.76387  -99.89893   \n",
       "4  2011  30DEC2011         48       48401  48401950100  32.31673  -94.60574   \n",
       "\n",
       "   ds_pm_pred  ds_pm_stdd date_parsed  month  \n",
       "0    7.590561    5.439812  2011-12-30     12  \n",
       "1    7.660033    5.666294  2011-12-30     12  \n",
       "2    7.355021    5.490203  2011-12-30     12  \n",
       "3    7.436393    5.247210  2011-12-30     12  \n",
       "4   11.107991    6.297006  2011-12-30     12  "
      ]
     },
     "execution_count": 16,
     "metadata": {},
     "output_type": "execute_result"
    }
   ],
   "source": [
    "pm['date_parsed'] = pd.to_datetime(pm['date'], format='%d%b%Y')\n",
    "pm['month'] = pm['date_parsed'].dt.month\n",
    "pm.head()"
   ]
  },
  {
   "cell_type": "code",
   "execution_count": 23,
   "metadata": {},
   "outputs": [
    {
     "data": {
      "text/html": [
       "<div>\n",
       "<style scoped>\n",
       "    .dataframe tbody tr th:only-of-type {\n",
       "        vertical-align: middle;\n",
       "    }\n",
       "\n",
       "    .dataframe tbody tr th {\n",
       "        vertical-align: top;\n",
       "    }\n",
       "\n",
       "    .dataframe thead th {\n",
       "        text-align: right;\n",
       "    }\n",
       "</style>\n",
       "<table border=\"1\" class=\"dataframe\">\n",
       "  <thead>\n",
       "    <tr style=\"text-align: right;\">\n",
       "      <th></th>\n",
       "      <th>year</th>\n",
       "      <th>date</th>\n",
       "      <th>statefips</th>\n",
       "      <th>countyfips</th>\n",
       "      <th>ctfips</th>\n",
       "      <th>latitude</th>\n",
       "      <th>longitude</th>\n",
       "      <th>ds_pm_pred</th>\n",
       "      <th>ds_pm_stdd</th>\n",
       "      <th>date_parsed</th>\n",
       "      <th>month</th>\n",
       "    </tr>\n",
       "  </thead>\n",
       "  <tbody>\n",
       "    <tr>\n",
       "      <th>10645</th>\n",
       "      <td>2011</td>\n",
       "      <td>31DEC2011</td>\n",
       "      <td>6</td>\n",
       "      <td>6001</td>\n",
       "      <td>6001400100</td>\n",
       "      <td>37.86754</td>\n",
       "      <td>-122.23181</td>\n",
       "      <td>8.143539</td>\n",
       "      <td>4.009139</td>\n",
       "      <td>2011-12-31</td>\n",
       "      <td>12</td>\n",
       "    </tr>\n",
       "    <tr>\n",
       "      <th>10646</th>\n",
       "      <td>2011</td>\n",
       "      <td>31DEC2011</td>\n",
       "      <td>6</td>\n",
       "      <td>6001</td>\n",
       "      <td>6001400200</td>\n",
       "      <td>37.84817</td>\n",
       "      <td>-122.24948</td>\n",
       "      <td>8.116514</td>\n",
       "      <td>3.971881</td>\n",
       "      <td>2011-12-31</td>\n",
       "      <td>12</td>\n",
       "    </tr>\n",
       "    <tr>\n",
       "      <th>10647</th>\n",
       "      <td>2011</td>\n",
       "      <td>31DEC2011</td>\n",
       "      <td>6</td>\n",
       "      <td>6001</td>\n",
       "      <td>6001400300</td>\n",
       "      <td>37.84056</td>\n",
       "      <td>-122.25442</td>\n",
       "      <td>8.083649</td>\n",
       "      <td>3.933703</td>\n",
       "      <td>2011-12-31</td>\n",
       "      <td>12</td>\n",
       "    </tr>\n",
       "    <tr>\n",
       "      <th>10648</th>\n",
       "      <td>2011</td>\n",
       "      <td>31DEC2011</td>\n",
       "      <td>6</td>\n",
       "      <td>6001</td>\n",
       "      <td>6001400400</td>\n",
       "      <td>37.84801</td>\n",
       "      <td>-122.25752</td>\n",
       "      <td>8.180107</td>\n",
       "      <td>4.215300</td>\n",
       "      <td>2011-12-31</td>\n",
       "      <td>12</td>\n",
       "    </tr>\n",
       "    <tr>\n",
       "      <th>10649</th>\n",
       "      <td>2011</td>\n",
       "      <td>31DEC2011</td>\n",
       "      <td>6</td>\n",
       "      <td>6001</td>\n",
       "      <td>6001400500</td>\n",
       "      <td>37.84853</td>\n",
       "      <td>-122.26480</td>\n",
       "      <td>8.125882</td>\n",
       "      <td>4.103174</td>\n",
       "      <td>2011-12-31</td>\n",
       "      <td>12</td>\n",
       "    </tr>\n",
       "  </tbody>\n",
       "</table>\n",
       "</div>"
      ],
      "text/plain": [
       "       year       date  statefips  countyfips      ctfips  latitude  \\\n",
       "10645  2011  31DEC2011          6        6001  6001400100  37.86754   \n",
       "10646  2011  31DEC2011          6        6001  6001400200  37.84817   \n",
       "10647  2011  31DEC2011          6        6001  6001400300  37.84056   \n",
       "10648  2011  31DEC2011          6        6001  6001400400  37.84801   \n",
       "10649  2011  31DEC2011          6        6001  6001400500  37.84853   \n",
       "\n",
       "       longitude  ds_pm_pred  ds_pm_stdd date_parsed  month  \n",
       "10645 -122.23181    8.143539    4.009139  2011-12-31     12  \n",
       "10646 -122.24948    8.116514    3.971881  2011-12-31     12  \n",
       "10647 -122.25442    8.083649    3.933703  2011-12-31     12  \n",
       "10648 -122.25752    8.180107    4.215300  2011-12-31     12  \n",
       "10649 -122.26480    8.125882    4.103174  2011-12-31     12  "
      ]
     },
     "execution_count": 23,
     "metadata": {},
     "output_type": "execute_result"
    }
   ],
   "source": [
    "pm_cali = pm[pm[\"statefips\"]== 6]\n",
    "pm_cali.head()"
   ]
  },
  {
   "cell_type": "code",
   "execution_count": 27,
   "metadata": {},
   "outputs": [
    {
     "data": {
      "text/plain": [
       "array([2011, 2012, 2013, 2014])"
      ]
     },
     "execution_count": 27,
     "metadata": {},
     "output_type": "execute_result"
    }
   ],
   "source": [
    "monthly_pm_cali = pm_cali.groupby([\"year\",\"month\"])['ds_pm_pred'].mean().reset_index()\n",
    "monthly_pm_cali.rename(columns={\"ds_pm_pred\": \"pm_level\"}, inplace=True)\n",
    "monthly_pm_cali[\"year\"].unique()"
   ]
  },
  {
   "cell_type": "code",
   "execution_count": 28,
   "metadata": {},
   "outputs": [
    {
     "data": {
      "text/html": [
       "<div>\n",
       "<style scoped>\n",
       "    .dataframe tbody tr th:only-of-type {\n",
       "        vertical-align: middle;\n",
       "    }\n",
       "\n",
       "    .dataframe tbody tr th {\n",
       "        vertical-align: top;\n",
       "    }\n",
       "\n",
       "    .dataframe thead th {\n",
       "        text-align: right;\n",
       "    }\n",
       "</style>\n",
       "<table border=\"1\" class=\"dataframe\">\n",
       "  <thead>\n",
       "    <tr style=\"text-align: right;\">\n",
       "      <th></th>\n",
       "      <th>year</th>\n",
       "      <th>month</th>\n",
       "      <th>pm_level</th>\n",
       "    </tr>\n",
       "  </thead>\n",
       "  <tbody>\n",
       "    <tr>\n",
       "      <th>0</th>\n",
       "      <td>2011</td>\n",
       "      <td>1</td>\n",
       "      <td>13.283995</td>\n",
       "    </tr>\n",
       "    <tr>\n",
       "      <th>1</th>\n",
       "      <td>2011</td>\n",
       "      <td>2</td>\n",
       "      <td>8.666981</td>\n",
       "    </tr>\n",
       "    <tr>\n",
       "      <th>2</th>\n",
       "      <td>2011</td>\n",
       "      <td>3</td>\n",
       "      <td>7.220850</td>\n",
       "    </tr>\n",
       "    <tr>\n",
       "      <th>3</th>\n",
       "      <td>2011</td>\n",
       "      <td>4</td>\n",
       "      <td>7.737372</td>\n",
       "    </tr>\n",
       "    <tr>\n",
       "      <th>4</th>\n",
       "      <td>2011</td>\n",
       "      <td>5</td>\n",
       "      <td>7.729165</td>\n",
       "    </tr>\n",
       "  </tbody>\n",
       "</table>\n",
       "</div>"
      ],
      "text/plain": [
       "   year  month   pm_level\n",
       "0  2011      1  13.283995\n",
       "1  2011      2   8.666981\n",
       "2  2011      3   7.220850\n",
       "3  2011      4   7.737372\n",
       "4  2011      5   7.729165"
      ]
     },
     "execution_count": 28,
     "metadata": {},
     "output_type": "execute_result"
    }
   ],
   "source": [
    "monthly_pm_cali.head()"
   ]
  },
  {
   "cell_type": "code",
   "execution_count": 29,
   "metadata": {},
   "outputs": [
    {
     "data": {
      "image/png": "[encoded data removed]",
      "text/plain": [
       "<Figure size 640x480 with 1 Axes>"
      ]
     },
     "metadata": {},
     "output_type": "display_data"
    }
   ],
   "source": [
    "monthly_pm_cali['month'] = pd.Categorical(monthly_pm_cali['month'], categories=[1, 2, 3, 4, 5, 6, 7, 8, 9, 10, 11, 12], ordered=True)\n",
    "                                        \n",
    "for year in monthly_pm_cali['year'].unique():\n",
    "    subset = monthly_pm_cali[monthly_pm_cali['year'] == year]\n",
    "    plt.plot(subset['month'], subset['pm_level'], label=str(year))\n",
    "\n",
    "plt.title('PM 2.5 Count in Each Month, 2011-2014')  # Title\n",
    "plt.xlabel('Month')  # X-axis label\n",
    "plt.ylabel('PM 2.5 Count')  # Y-axis label\n",
    "plt.legend(title='Year', loc='upper right')  # Legend with title\n",
    "plt.grid(True)  # Optional: add grid for better readability"
   ]
  },
  {
   "cell_type": "code",
   "execution_count": 30,
   "metadata": {},
   "outputs": [
    {
     "data": {
      "text/html": [
       "<div>\n",
       "<style scoped>\n",
       "    .dataframe tbody tr th:only-of-type {\n",
       "        vertical-align: middle;\n",
       "    }\n",
       "\n",
       "    .dataframe tbody tr th {\n",
       "        vertical-align: top;\n",
       "    }\n",
       "\n",
       "    .dataframe thead th {\n",
       "        text-align: right;\n",
       "    }\n",
       "</style>\n",
       "<table border=\"1\" class=\"dataframe\">\n",
       "  <thead>\n",
       "    <tr style=\"text-align: right;\">\n",
       "      <th></th>\n",
       "      <th>year</th>\n",
       "      <th>month</th>\n",
       "      <th>pm_level</th>\n",
       "      <th>frpcount</th>\n",
       "    </tr>\n",
       "  </thead>\n",
       "  <tbody>\n",
       "    <tr>\n",
       "      <th>0</th>\n",
       "      <td>2011</td>\n",
       "      <td>1</td>\n",
       "      <td>13.283995</td>\n",
       "      <td>95</td>\n",
       "    </tr>\n",
       "    <tr>\n",
       "      <th>1</th>\n",
       "      <td>2011</td>\n",
       "      <td>2</td>\n",
       "      <td>8.666981</td>\n",
       "      <td>220</td>\n",
       "    </tr>\n",
       "    <tr>\n",
       "      <th>2</th>\n",
       "      <td>2011</td>\n",
       "      <td>3</td>\n",
       "      <td>7.220850</td>\n",
       "      <td>111</td>\n",
       "    </tr>\n",
       "    <tr>\n",
       "      <th>3</th>\n",
       "      <td>2011</td>\n",
       "      <td>4</td>\n",
       "      <td>7.737372</td>\n",
       "      <td>243</td>\n",
       "    </tr>\n",
       "    <tr>\n",
       "      <th>4</th>\n",
       "      <td>2011</td>\n",
       "      <td>5</td>\n",
       "      <td>7.729165</td>\n",
       "      <td>137</td>\n",
       "    </tr>\n",
       "  </tbody>\n",
       "</table>\n",
       "</div>"
      ],
      "text/plain": [
       "   year month   pm_level  frpcount\n",
       "0  2011     1  13.283995        95\n",
       "1  2011     2   8.666981       220\n",
       "2  2011     3   7.220850       111\n",
       "3  2011     4   7.737372       243\n",
       "4  2011     5   7.729165       137"
      ]
     },
     "execution_count": 30,
     "metadata": {},
     "output_type": "execute_result"
    }
   ],
   "source": [
    "merged_df = pd.merge(monthly_pm_cali, monthly_count, how='left', left_on=['year', 'month'], right_on=['year', 'month'])\n",
    "merged_df.head()"
   ]
  },
  {
   "cell_type": "code",
   "execution_count": null,
   "metadata": {},
   "outputs": [],
   "source": [
    "merged_df.scatter_plot()"
   ]
  },
  {
   "cell_type": "code",
   "execution_count": null,
   "metadata": {},
   "outputs": [],
   "source": [
    "def calculate_distance(lat1, lon1, lat2, lon2):\n",
    "    return haversine((lat1, lon1), (lat2, lon2))\n",
    "\n",
    "def categorize_distance(distance):\n",
    "    if distance < 10:\n",
    "        return '0-10 km'\n",
    "    elif distance < 50:\n",
    "        return '10-50 km'\n",
    "    elif distance < 100:\n",
    "        return '50-100 km'\n",
    "    else:\n",
    "        return '100+ km'\n",
    "\n",
    "# Calculate distances for each row in the merged dataset\n",
    "merged_df['distance'] = merged_df.apply(\n",
    "    lambda row: calculate_distance(row['latitude_x'], row['longitude_x'], row['latitude_y'], row['longitude_y']),\n",
    "    axis=1\n",
    ")\n",
    "\n",
    "# Categorize distances\n",
    "merged_df['distance_category'] = merged_df['distance'].apply(categorize_distance)\n",
    "\n",
    "# Remove unnecessary columns for visualization\n",
    "cleaned_df = merged_df[['date', 'ds_pm_pred', 'distance_category']]\n",
    "\n",
    "# Group by date and distance category to calculate average PM 2.5 levels\n",
    "final_df = cleaned_df.groupby(['date', 'distance_category']).mean().reset_index()\n",
    "\n",
    "# Print final prepared DataFrame\n",
    "print(final_df.head())\n"
   ]
  },
  {
   "cell_type": "code",
   "execution_count": null,
   "metadata": {},
   "outputs": [],
   "source": [
    "# Assuming df_fire and df_pm are your pre-loaded datasets\n",
    "# You would need to preprocess these datasets as described above.\n",
    "\n",
    "# Example of plotting\n",
    "plt.figure(figsize=(10, 6))\n",
    "for category in distance_categories:\n",
    "    subset = df_pm[df_pm['distance_category'] == category]\n",
    "    plt.plot(subset['date'], subset['ds_pm_pred'], label=f'Distance: {category} km')\n",
    "\n",
    "plt.xlabel('Date')\n",
    "plt.ylabel('PM 2.5 Levels')\n",
    "plt.title('PM 2.5 Levels Over Time by Proximity to Wildfire Events')\n",
    "plt.legend()\n",
    "plt.show()"
   ]
  },
  {
   "cell_type": "code",
   "execution_count": null,
   "metadata": {},
   "outputs": [],
   "source": []
  }
 ],
 "metadata": {
  "kernelspec": {
   "display_name": "Python 3.11.7 64-bit",
   "language": "python",
   "name": "python3"
  },
  "language_info": {
   "codemirror_mode": {
    "name": "ipython",
    "version": 3
   },
   "file_extension": ".py",
   "mimetype": "text/x-python",
   "name": "python",
   "nbconvert_exporter": "python",
   "pygments_lexer": "ipython3",
   "version": "3.12.2"
  },
  "orig_nbformat": 4,
  "vscode": {
   "interpreter": {
    "hash": "b0fa6594d8f4cbf19f97940f81e996739fb7646882a419484c72d19e05852a7e"
   }
  }
 },
 "nbformat": 4,
 "nbformat_minor": 2
}
