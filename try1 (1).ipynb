{
 "cells": [
  {
   "cell_type": "code",
   "execution_count": 25,
   "id": "c3ea1eed-9470-4c93-bd2b-3326758e1fd3",
   "metadata": {},
   "outputs": [],
   "source": [
    "import matplotlib.pyplot as plt\n",
    "import numpy as np\n",
    "import pandas as pd\n",
    "import statsmodels.api as sm\n",
    "import seaborn as sns\n",
    "import itertools\n",
    "from ipywidgets import interact, interactive\n",
    "import re\n",
    "import hashlib\n",
    "sns.set(style=\"dark\")\n",
    "plt.style.use(\"ggplot\")\n",
    "%matplotlib inline"
   ]
  },
  {
   "cell_type": "code",
   "execution_count": 66,
   "id": "ac65e306-1934-4fd0-826f-62d4e04ea387",
   "metadata": {},
   "outputs": [],
   "source": [
    "copd = pd.read_csv(\"chronic_obstructive_pulmonary_disease.csv\")\n",
    "state_populations = pd.read_csv(\"pop.csv\")"
   ]
  },
  {
   "cell_type": "code",
   "execution_count": 67,
   "id": "a967f3b8-ef83-4b25-904d-464a3ab745b5",
   "metadata": {},
   "outputs": [],
   "source": [
    "copd_gender = copd[copd['StratificationCategoryID1'] == 'RACE']"
   ]
  },
  {
   "cell_type": "code",
   "execution_count": 44,
   "id": "53fc6bf0-f754-4664-ad0f-4505b62deae3",
   "metadata": {},
   "outputs": [],
   "source": [
    "# copd_bystate = copd_gender.groupby('LocationAbbr').count().reset_index()\n",
    "# copd_bystate = copd_bystate.rename(columns={\"LocationAbbr\": \"STATE\", \"Topic\": \"NUM OF COPD CASES\"})"
   ]
  },
  {
   "cell_type": "code",
   "execution_count": 68,
   "id": "07e6cdc5-6952-44cf-ac6f-7516d8b3c825",
   "metadata": {},
   "outputs": [],
   "source": [
    "copd_gender = copd_gender.rename(columns={\"LocationAbbr\": \"STATE\", \"Topic\": \"NUM OF COPD CASES\"})"
   ]
  },
  {
   "cell_type": "code",
   "execution_count": 69,
   "id": "33fb0f53-4c33-42d4-89b5-eff0991ed5c8",
   "metadata": {},
   "outputs": [],
   "source": [
    "copd_gender = copd_gender[['STATE','NUM OF COPD CASES', 'StratificationID1']].groupby(['StratificationID1', 'STATE']).count().reset_index()"
   ]
  },
  {
   "cell_type": "code",
   "execution_count": 71,
   "id": "17db5a6f-96a1-4150-8b73-0c6c1a96460c",
   "metadata": {},
   "outputs": [],
   "source": [
    "state_populations.columns = [\"Geographic Area\", \"April 1 2020\", \"2020\", \"2021\", \"2022\", \"2023\"]\n",
    "state_populations = state_populations.iloc[8:-8].reset_index()\n",
    "state_populations = state_populations[[\"Geographic Area\", \"2023\"]]"
   ]
  },
  {
   "cell_type": "code",
   "execution_count": 72,
   "id": "b1af29b1-a4e9-46a9-b06a-19f33f5a35af",
   "metadata": {},
   "outputs": [],
   "source": [
    "state_populations['Geographic Area'] = state_populations['Geographic Area'].str.extract(pat = '([\\w ]+)')\n",
    "state_populations['2023'] = state_populations['2023'].replace(',','',regex=True).tolist()\n",
    "state_populations['2023'] = pd.to_numeric(state_populations['2023'])\n",
    "state_populations = state_populations.rename(columns={\"Geographic Area\": \"State\"})"
   ]
  },
  {
   "cell_type": "code",
   "execution_count": 73,
   "id": "b97dfc1c-28fd-4340-bff2-28eaeb5add35",
   "metadata": {},
   "outputs": [],
   "source": [
    "states = pd.read_csv(\"states.csv\")"
   ]
  },
  {
   "cell_type": "code",
   "execution_count": 47,
   "id": "7729175b-da03-4ba7-95a7-eb80306929a6",
   "metadata": {},
   "outputs": [],
   "source": [
    "# states = states.rename(columns={\"Abbreviation\": \"STATE\"})\n",
    "# combined_df = pd.merge(states, copd_bystate, on=\"STATE\", how=\"inner\")\n",
    "# combined_df = pd.merge(combined_df, state_populations, on='State', how='inner')\n",
    "# combined_df.head()"
   ]
  },
  {
   "cell_type": "code",
   "execution_count": 74,
   "id": "21a42c46-c0ef-4349-8b47-7f1c7e19acc0",
   "metadata": {},
   "outputs": [
    {
     "data": {
      "text/html": [
       "<div>\n",
       "<style scoped>\n",
       "    .dataframe tbody tr th:only-of-type {\n",
       "        vertical-align: middle;\n",
       "    }\n",
       "\n",
       "    .dataframe tbody tr th {\n",
       "        vertical-align: top;\n",
       "    }\n",
       "\n",
       "    .dataframe thead th {\n",
       "        text-align: right;\n",
       "    }\n",
       "</style>\n",
       "<table border=\"1\" class=\"dataframe\">\n",
       "  <thead>\n",
       "    <tr style=\"text-align: right;\">\n",
       "      <th></th>\n",
       "      <th>State</th>\n",
       "      <th>STATE</th>\n",
       "      <th>StratificationID1</th>\n",
       "      <th>NUM OF COPD CASES</th>\n",
       "      <th>2023</th>\n",
       "    </tr>\n",
       "  </thead>\n",
       "  <tbody>\n",
       "    <tr>\n",
       "      <th>0</th>\n",
       "      <td>Alabama</td>\n",
       "      <td>AL</td>\n",
       "      <td>AIAN</td>\n",
       "      <td>192</td>\n",
       "      <td>5108468</td>\n",
       "    </tr>\n",
       "    <tr>\n",
       "      <th>1</th>\n",
       "      <td>Alabama</td>\n",
       "      <td>AL</td>\n",
       "      <td>API</td>\n",
       "      <td>192</td>\n",
       "      <td>5108468</td>\n",
       "    </tr>\n",
       "    <tr>\n",
       "      <th>2</th>\n",
       "      <td>Alabama</td>\n",
       "      <td>AL</td>\n",
       "      <td>BLK</td>\n",
       "      <td>348</td>\n",
       "      <td>5108468</td>\n",
       "    </tr>\n",
       "    <tr>\n",
       "      <th>3</th>\n",
       "      <td>Alabama</td>\n",
       "      <td>AL</td>\n",
       "      <td>HIS</td>\n",
       "      <td>348</td>\n",
       "      <td>5108468</td>\n",
       "    </tr>\n",
       "    <tr>\n",
       "      <th>4</th>\n",
       "      <td>Alabama</td>\n",
       "      <td>AL</td>\n",
       "      <td>MRC</td>\n",
       "      <td>156</td>\n",
       "      <td>5108468</td>\n",
       "    </tr>\n",
       "  </tbody>\n",
       "</table>\n",
       "</div>"
      ],
      "text/plain": [
       "     State STATE StratificationID1  NUM OF COPD CASES     2023\n",
       "0  Alabama    AL              AIAN                192  5108468\n",
       "1  Alabama    AL               API                192  5108468\n",
       "2  Alabama    AL               BLK                348  5108468\n",
       "3  Alabama    AL               HIS                348  5108468\n",
       "4  Alabama    AL               MRC                156  5108468"
      ]
     },
     "execution_count": 74,
     "metadata": {},
     "output_type": "execute_result"
    }
   ],
   "source": [
    "states = states.rename(columns={\"Abbreviation\": \"STATE\"})\n",
    "combined_gendata = pd.merge(states, copd_gender, on=\"STATE\", how=\"inner\")\n",
    "combined_df = pd.merge(combined_gendata, state_populations, on='State', how='inner')\n",
    "combined_df.head()"
   ]
  },
  {
   "cell_type": "code",
   "execution_count": 75,
   "id": "baaf7cd0-c858-4e67-8e13-fe9ef821fe73",
   "metadata": {},
   "outputs": [],
   "source": [
    "combined_df['copd/population'] = combined_df['NUM OF COPD CASES'] / combined_df['2023']"
   ]
  },
  {
   "cell_type": "code",
   "execution_count": 76,
   "id": "7b5c96f9-15ab-4cf3-834f-556447071e7e",
   "metadata": {},
   "outputs": [
    {
     "data": {
      "text/html": [
       "<div>\n",
       "<style scoped>\n",
       "    .dataframe tbody tr th:only-of-type {\n",
       "        vertical-align: middle;\n",
       "    }\n",
       "\n",
       "    .dataframe tbody tr th {\n",
       "        vertical-align: top;\n",
       "    }\n",
       "\n",
       "    .dataframe thead th {\n",
       "        text-align: right;\n",
       "    }\n",
       "</style>\n",
       "<table border=\"1\" class=\"dataframe\">\n",
       "  <thead>\n",
       "    <tr style=\"text-align: right;\">\n",
       "      <th></th>\n",
       "      <th>State</th>\n",
       "      <th>STATE</th>\n",
       "      <th>StratificationID1</th>\n",
       "      <th>NUM OF COPD CASES</th>\n",
       "      <th>2023</th>\n",
       "      <th>copd/population</th>\n",
       "    </tr>\n",
       "  </thead>\n",
       "  <tbody>\n",
       "    <tr>\n",
       "      <th>0</th>\n",
       "      <td>Alabama</td>\n",
       "      <td>AL</td>\n",
       "      <td>AIAN</td>\n",
       "      <td>192</td>\n",
       "      <td>5108468</td>\n",
       "      <td>0.000038</td>\n",
       "    </tr>\n",
       "    <tr>\n",
       "      <th>1</th>\n",
       "      <td>Alabama</td>\n",
       "      <td>AL</td>\n",
       "      <td>API</td>\n",
       "      <td>192</td>\n",
       "      <td>5108468</td>\n",
       "      <td>0.000038</td>\n",
       "    </tr>\n",
       "    <tr>\n",
       "      <th>2</th>\n",
       "      <td>Alabama</td>\n",
       "      <td>AL</td>\n",
       "      <td>BLK</td>\n",
       "      <td>348</td>\n",
       "      <td>5108468</td>\n",
       "      <td>0.000068</td>\n",
       "    </tr>\n",
       "    <tr>\n",
       "      <th>3</th>\n",
       "      <td>Alabama</td>\n",
       "      <td>AL</td>\n",
       "      <td>HIS</td>\n",
       "      <td>348</td>\n",
       "      <td>5108468</td>\n",
       "      <td>0.000068</td>\n",
       "    </tr>\n",
       "    <tr>\n",
       "      <th>4</th>\n",
       "      <td>Alabama</td>\n",
       "      <td>AL</td>\n",
       "      <td>MRC</td>\n",
       "      <td>156</td>\n",
       "      <td>5108468</td>\n",
       "      <td>0.000031</td>\n",
       "    </tr>\n",
       "    <tr>\n",
       "      <th>...</th>\n",
       "      <td>...</td>\n",
       "      <td>...</td>\n",
       "      <td>...</td>\n",
       "      <td>...</td>\n",
       "      <td>...</td>\n",
       "      <td>...</td>\n",
       "    </tr>\n",
       "    <tr>\n",
       "      <th>352</th>\n",
       "      <td>Wyoming</td>\n",
       "      <td>WY</td>\n",
       "      <td>BLK</td>\n",
       "      <td>348</td>\n",
       "      <td>584057</td>\n",
       "      <td>0.000596</td>\n",
       "    </tr>\n",
       "    <tr>\n",
       "      <th>353</th>\n",
       "      <td>Wyoming</td>\n",
       "      <td>WY</td>\n",
       "      <td>HIS</td>\n",
       "      <td>348</td>\n",
       "      <td>584057</td>\n",
       "      <td>0.000596</td>\n",
       "    </tr>\n",
       "    <tr>\n",
       "      <th>354</th>\n",
       "      <td>Wyoming</td>\n",
       "      <td>WY</td>\n",
       "      <td>MRC</td>\n",
       "      <td>156</td>\n",
       "      <td>584057</td>\n",
       "      <td>0.000267</td>\n",
       "    </tr>\n",
       "    <tr>\n",
       "      <th>355</th>\n",
       "      <td>Wyoming</td>\n",
       "      <td>WY</td>\n",
       "      <td>OTH</td>\n",
       "      <td>156</td>\n",
       "      <td>584057</td>\n",
       "      <td>0.000267</td>\n",
       "    </tr>\n",
       "    <tr>\n",
       "      <th>356</th>\n",
       "      <td>Wyoming</td>\n",
       "      <td>WY</td>\n",
       "      <td>WHT</td>\n",
       "      <td>348</td>\n",
       "      <td>584057</td>\n",
       "      <td>0.000596</td>\n",
       "    </tr>\n",
       "  </tbody>\n",
       "</table>\n",
       "<p>357 rows × 6 columns</p>\n",
       "</div>"
      ],
      "text/plain": [
       "       State STATE StratificationID1  NUM OF COPD CASES     2023  \\\n",
       "0    Alabama    AL              AIAN                192  5108468   \n",
       "1    Alabama    AL               API                192  5108468   \n",
       "2    Alabama    AL               BLK                348  5108468   \n",
       "3    Alabama    AL               HIS                348  5108468   \n",
       "4    Alabama    AL               MRC                156  5108468   \n",
       "..       ...   ...               ...                ...      ...   \n",
       "352  Wyoming    WY               BLK                348   584057   \n",
       "353  Wyoming    WY               HIS                348   584057   \n",
       "354  Wyoming    WY               MRC                156   584057   \n",
       "355  Wyoming    WY               OTH                156   584057   \n",
       "356  Wyoming    WY               WHT                348   584057   \n",
       "\n",
       "     copd/population  \n",
       "0           0.000038  \n",
       "1           0.000038  \n",
       "2           0.000068  \n",
       "3           0.000068  \n",
       "4           0.000031  \n",
       "..               ...  \n",
       "352         0.000596  \n",
       "353         0.000596  \n",
       "354         0.000267  \n",
       "355         0.000267  \n",
       "356         0.000596  \n",
       "\n",
       "[357 rows x 6 columns]"
      ]
     },
     "execution_count": 76,
     "metadata": {},
     "output_type": "execute_result"
    }
   ],
   "source": [
    "combined_df"
   ]
  },
  {
   "cell_type": "code",
   "execution_count": 77,
   "id": "657d4cfb-7a31-4f71-8012-9aa48978139f",
   "metadata": {},
   "outputs": [
    {
     "data": {
      "image/png": "[encoded data removed]",
      "text/plain": [
       "<Figure size 1000x600 with 1 Axes>"
      ]
     },
     "metadata": {},
     "output_type": "display_data"
    }
   ],
   "source": [
    "plt.figure(figsize=(10, 6))\n",
    "plt.bar(combined_df['StratificationID1'], combined_df['copd/population'], color='skyblue')\n",
    "plt.xlabel('Race Category')\n",
    "plt.ylabel('copd/population')\n",
    "plt.title('copd/population by Race Category')\n",
    "plt.xticks(rotation=45)  # Rotate x-axis labels for better readability\n",
    "plt.grid(axis='y')  # Add gridlines on the y-axis\n",
    "plt.show()"
   ]
  },
  {
   "cell_type": "markdown",
   "id": "c76c65a3-d81c-4c3a-8c24-51b0c1ebe46c",
   "metadata": {},
   "source": [
    "**Describe trends.**"
   ]
  },
  {
   "cell_type": "markdown",
   "id": "6d2ead11-3cfb-4a96-8bf1-ac1a72129280",
   "metadata": {},
   "source": [
    "Black and Hispanic show the highest copd/population percentage, which means that some of the variances between COPD cases by states could be explained by external factors like racial backgrounds, and thus, race should be considered as one of the variables used to construct our bayesian model. "
   ]
  },
  {
   "cell_type": "markdown",
   "id": "2bea9e52-1189-4442-b9f3-a3e42a13cf5f",
   "metadata": {},
   "source": [
    "**How this visualization support our RQ.**"
   ]
  },
  {
   "cell_type": "markdown",
   "id": "e20d34d6-d911-4055-8caa-98d3133c6177",
   "metadata": {},
   "source": [
    "There is a spike in the percentage for BLK, HIS, and WHT, which again "
   ]
  }
 ],
 "metadata": {
  "kernelspec": {
   "display_name": "Python 3 (ipykernel)",
   "language": "python",
   "name": "python3"
  },
  "language_info": {
   "codemirror_mode": {
    "name": "ipython",
    "version": 3
   },
   "file_extension": ".py",
   "mimetype": "text/x-python",
   "name": "python",
   "nbconvert_exporter": "python",
   "pygments_lexer": "ipython3",
   "version": "3.9.15"
  }
 },
 "nbformat": 4,
 "nbformat_minor": 5
}
